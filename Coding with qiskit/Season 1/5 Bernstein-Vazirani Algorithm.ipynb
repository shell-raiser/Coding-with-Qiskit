{
 "cells": [
  {
   "cell_type": "markdown",
   "id": "c5c9c8ed",
   "metadata": {},
   "source": [
    "the algo guesses a secret number"
   ]
  },
  {
   "cell_type": "code",
   "execution_count": 1,
   "id": "dfad806f",
   "metadata": {},
   "outputs": [],
   "source": [
    "from qiskit import *\n",
    "%matplotlib inline\n",
    "from qiskit.tools.visualization import plot_histogram"
   ]
  },
  {
   "cell_type": "code",
   "execution_count": 2,
   "id": "0944ae05",
   "metadata": {},
   "outputs": [],
   "source": [
    "secretNumber = '101001'"
   ]
  },
  {
   "cell_type": "code",
   "execution_count": 14,
   "id": "8fcf5286",
   "metadata": {},
   "outputs": [
    {
     "data": {
      "text/plain": [
       "<qiskit.circuit.instructionset.InstructionSet at 0x7fcc09302540>"
      ]
     },
     "execution_count": 14,
     "metadata": {},
     "output_type": "execute_result"
    }
   ],
   "source": [
    "circuit = QuantumCircuit(6+1, 6)\n",
    "circuit.h((0,1,2,3,4,5))\n",
    "circuit.x(6)\n",
    "circuit.h(6)\n",
    "circuit.barrier()\n",
    "\n",
    "\n",
    "circuit.cx(5, 6)\n",
    "circuit.cx(3, 6)\n",
    "circuit.cx(0, 6)\n",
    "\n",
    "circuit.barrier()\n",
    "circuit.h((0,1,2,3,4,5))"
   ]
  },
  {
   "cell_type": "code",
   "execution_count": 15,
   "id": "3868cdf6",
   "metadata": {},
   "outputs": [
    {
     "data": {
      "text/html": [
       "<pre style=\"word-wrap: normal;white-space: pre;background: #fff0;line-height: 1.1;font-family: &quot;Courier New&quot;,Courier,monospace\">     ┌───┐      ░                 ░ ┌───┐\n",
       "q_0: ┤ H ├──────░─────────────■───░─┤ H ├\n",
       "     ├───┤      ░             │   ░ ├───┤\n",
       "q_1: ┤ H ├──────░─────────────┼───░─┤ H ├\n",
       "     ├───┤      ░             │   ░ ├───┤\n",
       "q_2: ┤ H ├──────░─────────────┼───░─┤ H ├\n",
       "     ├───┤      ░             │   ░ ├───┤\n",
       "q_3: ┤ H ├──────░────────■────┼───░─┤ H ├\n",
       "     ├───┤      ░        │    │   ░ ├───┤\n",
       "q_4: ┤ H ├──────░────────┼────┼───░─┤ H ├\n",
       "     ├───┤      ░        │    │   ░ ├───┤\n",
       "q_5: ┤ H ├──────░───■────┼────┼───░─┤ H ├\n",
       "     ├───┤┌───┐ ░ ┌─┴─┐┌─┴─┐┌─┴─┐ ░ └───┘\n",
       "q_6: ┤ X ├┤ H ├─░─┤ X ├┤ X ├┤ X ├─░──────\n",
       "     └───┘└───┘ ░ └───┘└───┘└───┘ ░      \n",
       "c: 6/════════════════════════════════════\n",
       "                                         </pre>"
      ],
      "text/plain": [
       "     ┌───┐      ░                 ░ ┌───┐\n",
       "q_0: ┤ H ├──────░─────────────■───░─┤ H ├\n",
       "     ├───┤      ░             │   ░ ├───┤\n",
       "q_1: ┤ H ├──────░─────────────┼───░─┤ H ├\n",
       "     ├───┤      ░             │   ░ ├───┤\n",
       "q_2: ┤ H ├──────░─────────────┼───░─┤ H ├\n",
       "     ├───┤      ░             │   ░ ├───┤\n",
       "q_3: ┤ H ├──────░────────■────┼───░─┤ H ├\n",
       "     ├───┤      ░        │    │   ░ ├───┤\n",
       "q_4: ┤ H ├──────░────────┼────┼───░─┤ H ├\n",
       "     ├───┤      ░        │    │   ░ ├───┤\n",
       "q_5: ┤ H ├──────░───■────┼────┼───░─┤ H ├\n",
       "     ├───┤┌───┐ ░ ┌─┴─┐┌─┴─┐┌─┴─┐ ░ └───┘\n",
       "q_6: ┤ X ├┤ H ├─░─┤ X ├┤ X ├┤ X ├─░──────\n",
       "     └───┘└───┘ ░ └───┘└───┘└───┘ ░      \n",
       "c: 6/════════════════════════════════════\n",
       "                                         "
      ]
     },
     "execution_count": 15,
     "metadata": {},
     "output_type": "execute_result"
    }
   ],
   "source": [
    "circuit.draw()"
   ]
  },
  {
   "cell_type": "markdown",
   "id": "aee15edf",
   "metadata": {},
   "source": [
    "Measurement"
   ]
  },
  {
   "cell_type": "code",
   "execution_count": 16,
   "id": "e6ca4548",
   "metadata": {
    "scrolled": false
   },
   "outputs": [
    {
     "data": {
      "text/html": [
       "<pre style=\"word-wrap: normal;white-space: pre;background: #fff0;line-height: 1.1;font-family: &quot;Courier New&quot;,Courier,monospace\">     ┌───┐      ░                 ░ ┌───┐ ░ ┌─┐               \n",
       "q_0: ┤ H ├──────░─────────────■───░─┤ H ├─░─┤M├───────────────\n",
       "     ├───┤      ░             │   ░ ├───┤ ░ └╥┘┌─┐            \n",
       "q_1: ┤ H ├──────░─────────────┼───░─┤ H ├─░──╫─┤M├────────────\n",
       "     ├───┤      ░             │   ░ ├───┤ ░  ║ └╥┘┌─┐         \n",
       "q_2: ┤ H ├──────░─────────────┼───░─┤ H ├─░──╫──╫─┤M├─────────\n",
       "     ├───┤      ░             │   ░ ├───┤ ░  ║  ║ └╥┘┌─┐      \n",
       "q_3: ┤ H ├──────░────────■────┼───░─┤ H ├─░──╫──╫──╫─┤M├──────\n",
       "     ├───┤      ░        │    │   ░ ├───┤ ░  ║  ║  ║ └╥┘┌─┐   \n",
       "q_4: ┤ H ├──────░────────┼────┼───░─┤ H ├─░──╫──╫──╫──╫─┤M├───\n",
       "     ├───┤      ░        │    │   ░ ├───┤ ░  ║  ║  ║  ║ └╥┘┌─┐\n",
       "q_5: ┤ H ├──────░───■────┼────┼───░─┤ H ├─░──╫──╫──╫──╫──╫─┤M├\n",
       "     ├───┤┌───┐ ░ ┌─┴─┐┌─┴─┐┌─┴─┐ ░ └───┘ ░  ║  ║  ║  ║  ║ └╥┘\n",
       "q_6: ┤ X ├┤ H ├─░─┤ X ├┤ X ├┤ X ├─░───────░──╫──╫──╫──╫──╫──╫─\n",
       "     └───┘└───┘ ░ └───┘└───┘└───┘ ░       ░  ║  ║  ║  ║  ║  ║ \n",
       "c: 6/════════════════════════════════════════╩══╩══╩══╩══╩══╩═\n",
       "                                             0  1  2  3  4  5 </pre>"
      ],
      "text/plain": [
       "     ┌───┐      ░                 ░ ┌───┐ ░ ┌─┐               \n",
       "q_0: ┤ H ├──────░─────────────■───░─┤ H ├─░─┤M├───────────────\n",
       "     ├───┤      ░             │   ░ ├───┤ ░ └╥┘┌─┐            \n",
       "q_1: ┤ H ├──────░─────────────┼───░─┤ H ├─░──╫─┤M├────────────\n",
       "     ├───┤      ░             │   ░ ├───┤ ░  ║ └╥┘┌─┐         \n",
       "q_2: ┤ H ├──────░─────────────┼───░─┤ H ├─░──╫──╫─┤M├─────────\n",
       "     ├───┤      ░             │   ░ ├───┤ ░  ║  ║ └╥┘┌─┐      \n",
       "q_3: ┤ H ├──────░────────■────┼───░─┤ H ├─░──╫──╫──╫─┤M├──────\n",
       "     ├───┤      ░        │    │   ░ ├───┤ ░  ║  ║  ║ └╥┘┌─┐   \n",
       "q_4: ┤ H ├──────░────────┼────┼───░─┤ H ├─░──╫──╫──╫──╫─┤M├───\n",
       "     ├───┤      ░        │    │   ░ ├───┤ ░  ║  ║  ║  ║ └╥┘┌─┐\n",
       "q_5: ┤ H ├──────░───■────┼────┼───░─┤ H ├─░──╫──╫──╫──╫──╫─┤M├\n",
       "     ├───┤┌───┐ ░ ┌─┴─┐┌─┴─┐┌─┴─┐ ░ └───┘ ░  ║  ║  ║  ║  ║ └╥┘\n",
       "q_6: ┤ X ├┤ H ├─░─┤ X ├┤ X ├┤ X ├─░───────░──╫──╫──╫──╫──╫──╫─\n",
       "     └───┘└───┘ ░ └───┘└───┘└───┘ ░       ░  ║  ║  ║  ║  ║  ║ \n",
       "c: 6/════════════════════════════════════════╩══╩══╩══╩══╩══╩═\n",
       "                                             0  1  2  3  4  5 "
      ]
     },
     "execution_count": 16,
     "metadata": {},
     "output_type": "execute_result"
    }
   ],
   "source": [
    "circuit.barrier()\n",
    "circuit.measure([0,1,2,3,4,5], [0,1,2,3,4,5])\n",
    "circuit.draw()"
   ]
  },
  {
   "cell_type": "markdown",
   "id": "6c7d1773",
   "metadata": {},
   "source": [
    "Run the ckt"
   ]
  },
  {
   "cell_type": "code",
   "execution_count": 17,
   "id": "984a4518",
   "metadata": {},
   "outputs": [
    {
     "name": "stdout",
     "output_type": "stream",
     "text": [
      "{'101001': 1}\n"
     ]
    }
   ],
   "source": [
    "simulator = Aer.get_backend('qasm_simulator')\n",
    "result = execute(circuit, backend=simulator, shots = 1).result()\n",
    "counts = result.get_counts()\n",
    "print(counts)"
   ]
  },
  {
   "cell_type": "markdown",
   "id": "2f3b982b",
   "metadata": {},
   "source": [
    "## Generalize the code to make it work on any ckt"
   ]
  },
  {
   "cell_type": "code",
   "execution_count": 22,
   "id": "e900b0e0",
   "metadata": {},
   "outputs": [
    {
     "data": {
      "text/html": [
       "<pre style=\"word-wrap: normal;white-space: pre;background: #fff0;line-height: 1.1;font-family: &quot;Courier New&quot;,Courier,monospace\">     ┌───┐      ░                 ░ ┌───┐ ░ ┌─┐               \n",
       "q_0: ┤ H ├──────░───■─────────────░─┤ H ├─░─┤M├───────────────\n",
       "     ├───┤      ░   │             ░ ├───┤ ░ └╥┘┌─┐            \n",
       "q_1: ┤ H ├──────░───┼─────────────░─┤ H ├─░──╫─┤M├────────────\n",
       "     ├───┤      ░   │             ░ ├───┤ ░  ║ └╥┘┌─┐         \n",
       "q_2: ┤ H ├──────░───┼─────────────░─┤ H ├─░──╫──╫─┤M├─────────\n",
       "     ├───┤      ░   │             ░ ├───┤ ░  ║  ║ └╥┘┌─┐      \n",
       "q_3: ┤ H ├──────░───┼────■────────░─┤ H ├─░──╫──╫──╫─┤M├──────\n",
       "     ├───┤      ░   │    │        ░ ├───┤ ░  ║  ║  ║ └╥┘┌─┐   \n",
       "q_4: ┤ H ├──────░───┼────┼────────░─┤ H ├─░──╫──╫──╫──╫─┤M├───\n",
       "     ├───┤      ░   │    │        ░ ├───┤ ░  ║  ║  ║  ║ └╥┘┌─┐\n",
       "q_5: ┤ H ├──────░───┼────┼────■───░─┤ H ├─░──╫──╫──╫──╫──╫─┤M├\n",
       "     ├───┤┌───┐ ░ ┌─┴─┐┌─┴─┐┌─┴─┐ ░ └───┘ ░  ║  ║  ║  ║  ║ └╥┘\n",
       "q_6: ┤ X ├┤ X ├─░─┤ X ├┤ X ├┤ X ├─░───────░──╫──╫──╫──╫──╫──╫─\n",
       "     └───┘└───┘ ░ └───┘└───┘└───┘ ░       ░  ║  ║  ║  ║  ║  ║ \n",
       "c: 6/════════════════════════════════════════╩══╩══╩══╩══╩══╩═\n",
       "                                             0  1  2  3  4  5 </pre>"
      ],
      "text/plain": [
       "     ┌───┐      ░                 ░ ┌───┐ ░ ┌─┐               \n",
       "q_0: ┤ H ├──────░───■─────────────░─┤ H ├─░─┤M├───────────────\n",
       "     ├───┤      ░   │             ░ ├───┤ ░ └╥┘┌─┐            \n",
       "q_1: ┤ H ├──────░───┼─────────────░─┤ H ├─░──╫─┤M├────────────\n",
       "     ├───┤      ░   │             ░ ├───┤ ░  ║ └╥┘┌─┐         \n",
       "q_2: ┤ H ├──────░───┼─────────────░─┤ H ├─░──╫──╫─┤M├─────────\n",
       "     ├───┤      ░   │             ░ ├───┤ ░  ║  ║ └╥┘┌─┐      \n",
       "q_3: ┤ H ├──────░───┼────■────────░─┤ H ├─░──╫──╫──╫─┤M├──────\n",
       "     ├───┤      ░   │    │        ░ ├───┤ ░  ║  ║  ║ └╥┘┌─┐   \n",
       "q_4: ┤ H ├──────░───┼────┼────────░─┤ H ├─░──╫──╫──╫──╫─┤M├───\n",
       "     ├───┤      ░   │    │        ░ ├───┤ ░  ║  ║  ║  ║ └╥┘┌─┐\n",
       "q_5: ┤ H ├──────░───┼────┼────■───░─┤ H ├─░──╫──╫──╫──╫──╫─┤M├\n",
       "     ├───┤┌───┐ ░ ┌─┴─┐┌─┴─┐┌─┴─┐ ░ └───┘ ░  ║  ║  ║  ║  ║ └╥┘\n",
       "q_6: ┤ X ├┤ X ├─░─┤ X ├┤ X ├┤ X ├─░───────░──╫──╫──╫──╫──╫──╫─\n",
       "     └───┘└───┘ ░ └───┘└───┘└───┘ ░       ░  ║  ║  ║  ║  ║  ║ \n",
       "c: 6/════════════════════════════════════════╩══╩══╩══╩══╩══╩═\n",
       "                                             0  1  2  3  4  5 "
      ]
     },
     "execution_count": 22,
     "metadata": {},
     "output_type": "execute_result"
    }
   ],
   "source": [
    "circuit = QuantumCircuit(len(secretNumber)+1, len(secretNumber))\n",
    "\n",
    "#circuit.h((0,1,2,3,4,5))\n",
    "circuit.h(range(len(secretNumber)))\n",
    "\n",
    "#circuit.x(6)\n",
    "circuit.x(len(secretNumber))\n",
    "\n",
    "#circuit.h(6)\n",
    "circuit.x(len(secretNumber))\n",
    "\n",
    "circuit.barrier()\n",
    "\n",
    "\n",
    "for ii, yesno in enumerate(reversed(secretNumber)):\n",
    "    if yesno == '1':\n",
    "        circuit.cx (ii, len(secretNumber))\n",
    "#circuit.cx(5, 6)\n",
    "#circuit.cx(3, 6)\n",
    "#circuit.cx(0, 6)\n",
    "\n",
    "\n",
    "\n",
    "circuit.barrier()\n",
    "#circuit.h((0,1,2,3,4,5))\n",
    "circuit.h(range(len(secretNumber)))\n",
    "circuit.barrier()\n",
    "circuit.measure(range(len(secretNumber)), range(len(secretNumber)))\n",
    "circuit.draw()"
   ]
  }
 ],
 "metadata": {
  "kernelspec": {
   "display_name": "Python 3 (ipykernel)",
   "language": "python",
   "name": "python3"
  },
  "language_info": {
   "codemirror_mode": {
    "name": "ipython",
    "version": 3
   },
   "file_extension": ".py",
   "mimetype": "text/x-python",
   "name": "python",
   "nbconvert_exporter": "python",
   "pygments_lexer": "ipython3",
   "version": "3.9.7"
  }
 },
 "nbformat": 4,
 "nbformat_minor": 5
}
