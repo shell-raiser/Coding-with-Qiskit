{
 "cells": [
  {
   "cell_type": "code",
   "execution_count": 1,
   "metadata": {},
   "outputs": [],
   "source": [
    "import qiskit.quantum_info as qi\n",
    "from qiskit.circuit.library import FourierChecking  #FourierChecking is an algorithm circuit built into the circuit library\n",
    "from qiskit.visualization import plot_histogram"
   ]
  },
  {
   "cell_type": "code",
   "execution_count": 2,
   "metadata": {},
   "outputs": [],
   "source": [
    "#these both are functions, among which, we find the corelativity\n",
    "f=[1,-1,-1,-1] \n",
    "g=[1,1,-1,-1]"
   ]
  },
  {
   "cell_type": "markdown",
   "metadata": {},
   "source": [
    "## The circuit (algorithm) tells us how corelated is the FT of G to F\n",
    "Quantum computer performs this faster than a classical computer. \n",
    "<br>The ckt outputs the probability for 00 state.\n",
    "If p(f,g)>=0.05, then g is correlated to f"
   ]
  },
  {
   "cell_type": "code",
   "execution_count": 4,
   "metadata": {},
   "outputs": [
    {
     "data": {
      "text/html": [
       "<pre style=\"word-wrap: normal;white-space: pre;background: #fff0;line-height: 1.1;font-family: &quot;Courier New&quot;,Courier,monospace\">     ┌──────────────────────────────────────┐\n",
       "q_0: ┤0                                     ├\n",
       "     │  fc: [1, -1, -1, -1], [1, 1, -1, -1] │\n",
       "q_1: ┤1                                     ├\n",
       "     └──────────────────────────────────────┘</pre>"
      ],
      "text/plain": [
       "     ┌──────────────────────────────────────┐\n",
       "q_0: ┤0                                     ├\n",
       "     │  fc: [1, -1, -1, -1], [1, 1, -1, -1] │\n",
       "q_1: ┤1                                     ├\n",
       "     └──────────────────────────────────────┘"
      ]
     },
     "execution_count": 4,
     "metadata": {},
     "output_type": "execute_result"
    }
   ],
   "source": [
    "circ = FourierChecking(f=f, g=g)\n",
    "circ.draw()"
   ]
  },
  {
   "cell_type": "code",
   "execution_count": 6,
   "metadata": {},
   "outputs": [
    {
     "data": {
      "image/png": "[encoded data removed]",
      "text/plain": [
       "<Figure size 504x360 with 1 Axes>"
      ]
     },
     "execution_count": 6,
     "metadata": {},
     "output_type": "execute_result"
    }
   ],
   "source": [
    "zero = qi.Statevector.from_label('00')\n",
    "sv = zero.evolve(circ)\n",
    "probs = sv.probabilities_dict()\n",
    "plot_histogram(probs) #only intersted in 00 probability"
   ]
  },
  {
   "cell_type": "markdown",
   "metadata": {},
   "source": [
    "Here P(f,g) = 0.250, therefore g is corelated to f"
   ]
  }
 ],
 "metadata": {
  "interpreter": {
   "hash": "315d64597d78918d5b6b46554bfd056a7fe10a94711e280bc55011d8d4ca2f7d"
  },
  "kernelspec": {
   "display_name": "Python 3.9.7 64-bit ('base': conda)",
   "language": "python",
   "name": "python3"
  },
  "language_info": {
   "codemirror_mode": {
    "name": "ipython",
    "version": 3
   },
   "file_extension": ".py",
   "mimetype": "text/x-python",
   "name": "python",
   "nbconvert_exporter": "python",
   "pygments_lexer": "ipython3",
   "version": "3.9.7"
  },
  "orig_nbformat": 4
 },
 "nbformat": 4,
 "nbformat_minor": 2
}
