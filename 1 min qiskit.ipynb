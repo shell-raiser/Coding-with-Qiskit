{
 "cells": [
  {
   "cell_type": "code",
   "execution_count": null,
   "metadata": {},
   "outputs": [],
   "source": [
    "# Bundle ckts into single job\n",
    "qc_list = [qc1, qc2]\n",
    "job = execute(qc_list, backend)\n",
    "job.result().get_counts()\n",
    "# Counts come here, as list of counts objects\n",
    "job.result().get_counts(qc1) # gives only one ckt results\n",
    "# to transpile, assemble and run qckts seperatl\n",
    "tqc_list = transpile(qc_list, vigo) # returns a list of transpiled quantm ckts\n",
    "qobj = assemble(tqc_list, vigo)\n",
    "vigo.run(qobj)\n",
    "job.result().get_counts()"
   ]
  },
  {
   "cell_type": "code",
   "execution_count": null,
   "metadata": {},
   "outputs": [],
   "source": [
    "# Visualise qckts using latex\n",
    "qc.draw('latex') #needs pylatexenc, pillow\n",
    "print(qc.draw('latex_source')) # for latex code"
   ]
  },
  {
   "cell_type": "code",
   "execution_count": null,
   "metadata": {},
   "outputs": [],
   "source": [
    "# Convert Quantum ckt to and from QASM\n",
    "print(qc.qasm()) # returns the qasm string\n",
    "# or\n",
    "qc.qasm(formatted = True) \n",
    "# or\n",
    "qc.qasm(formatted = True, filename='') \n",
    "\n",
    "\n",
    "# to create from qasm\n",
    "new_qc = QuantumCircuit.from_qasm_file('my_circuit.qasm')"
   ]
  },
  {
   "cell_type": "code",
   "execution_count": null,
   "metadata": {},
   "outputs": [],
   "source": [
    "# Monitoring a job\n",
    "job = execute(qc,backend)\n",
    "# to see the status\n",
    "job.status() #avoid this, can be rejected by server\n",
    "# or\n",
    "job.wait_for_final_state()\n",
    "\n",
    "\n",
    "# using qiskit job monitor\n",
    "from qiskit.tools import job_monitor\n",
    "job_monitor(job)\n",
    "# or use qiskit job watcher magic\n",
    "import qiskit.tools.jupyter\n",
    "%qiskit_job_watcher"
   ]
  },
  {
   "cell_type": "code",
   "execution_count": null,
   "metadata": {},
   "outputs": [],
   "source": [
    "# implement a multi-control toffoli gate\n",
    "qc.ccx(0,1,2)\n",
    "#or\n",
    "qc.mct([0,1,2,3],4) # MCT- multicontrol toffoli, ([Control], target)"
   ]
  },
  {
   "cell_type": "code",
   "execution_count": null,
   "metadata": {},
   "outputs": [],
   "source": [
    "# use a specific version of qiskit\n",
    "qiskit.__qiskit_version__"
   ]
  },
  {
   "cell_type": "code",
   "execution_count": null,
   "metadata": {},
   "outputs": [],
   "source": [
    "# Difference bt gate and instruction\n",
    "# qiskit's gate object represents a unitary qGate, whereas instruction objs have non unitary parts\n",
    "gate = qc.to_gate() # convert ckt to gate\n",
    "new_qc.append(gate.power(5),[0,1])\n",
    "#or\n",
    "instructoin = qc.to_intruction()\n",
    "instructoin.reverse_ops()\n",
    "new_qc.append"
   ]
  },
  {
   "cell_type": "code",
   "execution_count": null,
   "metadata": {},
   "outputs": [],
   "source": [
    "# adding non unitary parts to qckt\n",
    "qc = QuantumCircuit(2)\n",
    "qc.initialize([0,1],0) # it is an initialize gate\n",
    "qc.h(0)\n",
    "qc.cx(0,1)\n",
    "qc.measure_all()\n",
    "qc.h(0).c_if(qc.clbits[0].register,1) # put h, conditioned on a classical register\n",
    "qc.draw()\n",
    "\n",
    "instructoin = qc.to_instruction()\n",
    "# can't do gate = qc.to_gate(), because it is non-unitary\n",
    "# but we can still append it to another ckt\n",
    "new_qc.append(instructoin,[0,1],[0,1])\n",
    "new_qx.decompose().draw() # to see original instruction"
   ]
  },
  {
   "cell_type": "code",
   "execution_count": null,
   "metadata": {},
   "outputs": [],
   "source": [
    "# control unitary part of ckt\n",
    "# measuring or ressetting a ckt is non-unitary\n",
    "controlled_qc = qc.control() # create control ckt, thus adding more qubits automatically to access it\n",
    "# or, to add more control qubits\n",
    "controlled_qc = qc.control(2)\n",
    "new_qc = new_qc.compose(controlled_qc, range(4))\n",
    "new_qc.decompose().draw()"
   ]
  },
  {
   "cell_type": "code",
   "execution_count": null,
   "metadata": {},
   "outputs": [],
   "source": [
    "# Combine 2 qckts\n",
    "new_qc = qc1 + qc2\n",
    "new_qc.draw()\n",
    "\n",
    "# but to add ckts with different no. of qubits, we need to have qc1 and qc2 with same register name, or else we can do below\n",
    "# use compose method\n",
    "new_qc = qc1.compose(qc2, [1,2])"
   ]
  },
  {
   "cell_type": "code",
   "execution_count": null,
   "metadata": {},
   "outputs": [],
   "source": [
    "# Parametrised ckts in qiskit\n",
    "a = Parameter(\"a\")\n",
    "qc.cul(a,0,1)\n",
    "b = Parameter(\"b\")\n",
    "qc.assign_parameters({a:b}, inplace=True) # to replace a with b in the ckt\n",
    "transpiled_qc = transpile(qc, basis_gates-['cx','u3'], optimization_level=3)\n",
    "specific_transpiled_qc = transpiled_qc.assign_parameters({b:2})"
   ]
  },
  {
   "cell_type": "code",
   "execution_count": null,
   "metadata": {},
   "outputs": [],
   "source": [
    "# convert a unitary matrix to a set of one & two qubit gates, so that we can run code on older qcomputers\n",
    "U = [[...],\n",
    "[...],\n",
    "[...],\n",
    "[...]]\n",
    "qc.unitary(U,[0,1])\n",
    "trans_qc = transpile(qc, basis_gates=['cx','u3']) # cx and u3 are universal gates, so we can convert any ckt to these gates"
   ]
  },
  {
   "cell_type": "code",
   "execution_count": null,
   "metadata": {},
   "outputs": [],
   "source": [
    "# What is the unitary simulator\n"
   ]
  },
  {
   "cell_type": "code",
   "execution_count": null,
   "metadata": {},
   "outputs": [],
   "source": [
    "# What is a qsphere\n",
    "plot_state_qsphere(sv.data)"
   ]
  },
  {
   "cell_type": "code",
   "execution_count": null,
   "metadata": {},
   "outputs": [],
   "source": [
    "#use mock backends in qiskit\n",
    "from qiskit.test.mock import FakeVigo\n",
    "fake_vigo = FakeVigo()\n",
    "# this backend can be used without an account or que\n",
    "results = execute(qc, fake_vigo).result()\n",
    "counts = results.get_counts()\n",
    "plot........."
   ]
  },
  {
   "cell_type": "code",
   "execution_count": null,
   "metadata": {},
   "outputs": [],
   "source": [
    "# view device properties and config in qiskit\n",
    "from qiskit.tools.jupyter import *\n",
    "vigo = provider.get_backend('ibmq_vigo')\n",
    "vigo # displays widget\n",
    "vigo.configuration()\n",
    "# or \n",
    "vigo.configuration().coupling_map\n",
    "# etc\n",
    "vigo.properties() # or ().t1(3)\n",
    "vigo.defaults()"
   ]
  },
  {
   "cell_type": "code",
   "execution_count": null,
   "metadata": {},
   "outputs": [],
   "source": [
    "# simulate sv in qiskit\n",
    "# sv describes the state of the computer by a vector with 2^n elements, n=no. of qubits\n",
    "from qiskit.quantum_info import Statevector\n",
    "sv = Statevector.from_label('000') #all 3 qubits initialized to 0\n",
    "sv # gives output, statevector objects  \n",
    "sv = sv.evolve(qc) # Evolve the object through the circuits, returns the simulated state of the qubits, after we run the ckt\n",
    "sv.data # to get the state vector array"
   ]
  },
  {
   "cell_type": "code",
   "execution_count": null,
   "metadata": {},
   "outputs": [],
   "source": [
    "# Retrieve old job from IBM quantum\n",
    "backend.jobs() # returns 10 most recent jobs\n",
    "# or we can do\n",
    "backend.jobs(limit=2) # for 2 jobs\n",
    "\n",
    "job = backend.jobs(limit=2)[0] # to store the results of the first job \n",
    "counts = job.result().get_counts()\n",
    "\n",
    "# another way to retrieve the job, using the job id\n",
    "job = backend.retrieve_job('JOB_ID_HERE')\n",
    "job.properties().qubits(0)"
   ]
  },
  {
   "cell_type": "code",
   "execution_count": null,
   "metadata": {},
   "outputs": [],
   "source": [
    "# invert unitary part of ckt\n",
    "my_gate = qc.to_gate()\n",
    "my_inverse_gate = my_gate.inverse()\n",
    "my_inverse_gate.name = 'inverted gate'\n",
    "qc2 = QuantumCircuit(3)\n",
    "qc2.append(my_inverse_gate, [0,1,2])"
   ]
  },
  {
   "cell_type": "code",
   "execution_count": null,
   "metadata": {},
   "outputs": [],
   "source": [
    "inverse_qc = qc.inverse() # doesnt work when we have non-unitary part"
   ]
  },
  {
   "cell_type": "code",
   "execution_count": null,
   "metadata": {},
   "outputs": [],
   "source": [
    "# Not in the Series, Use dark mode for matplotlib plots\n",
    "import matplotlib.pyplot as plt\n",
    "plt.style.use('dark_background')\n",
    "plot_histogram(job.result().get_counts())"
   ]
  },
  {
   "cell_type": "code",
   "execution_count": null,
   "metadata": {},
   "outputs": [],
   "source": [
    "# Save Circuit Drawings to Different File Types\n",
    "qc.draw().savefig('fileName.png', dpi=700) # for saving matplotlib image as a png file, dpi is optional\n",
    "qc.draw().savefig('fileName.svg') # for saving as svg\n",
    "qc.draw('latex').save('fileName.png', dpi=700) # to save latex as image\n",
    "\n",
    "# to save as text\n",
    "with open('fileName.txt','w') as f:\n",
    "    f.write(str(qc.draw('text')))"
   ]
  }
 ],
 "metadata": {
  "interpreter": {
   "hash": "32ab330f392c2c1484f393fc2dde075d45ac04b5b19c9dd5a943a3a78fa8384d"
  },
  "kernelspec": {
   "display_name": "Python 3.10.0 ('qiskit')",
   "language": "python",
   "name": "python3"
  },
  "language_info": {
   "name": "python",
   "version": "3.10.0"
  },
  "orig_nbformat": 4
 },
 "nbformat": 4,
 "nbformat_minor": 2
}
