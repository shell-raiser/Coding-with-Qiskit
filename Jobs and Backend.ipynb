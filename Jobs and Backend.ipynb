{
 "cells": [
  {
   "cell_type": "code",
   "execution_count": null,
   "metadata": {},
   "outputs": [],
   "source": [
    "from qiskit import IBMQ, assemble, transpile\n",
    "from qiskit.circuit.random import random_circuit\n",
    "\n",
    "provider = IBMQ.load_account()\n",
    "backend = provider.backend.ibmq_vigo\n",
    "qx = random_circuit(n_qubits=5, depth=4) #generate random ckt\n",
    "transpiled = transpile(qx, backend=backend) \n",
    "job = backend.run(transpiled)\n",
    "retrieved_job = backend.retrieve_job(job.job_id())"
   ]
  },
  {
   "cell_type": "markdown",
   "metadata": {},
   "source": [
    "## See the que on a backend"
   ]
  },
  {
   "cell_type": "code",
   "execution_count": null,
   "metadata": {},
   "outputs": [],
   "source": [
    "status = backend.status()\n",
    "is_operational = status.operational\n",
    "jobs_in_queue = status.pending_jobs"
   ]
  },
  {
   "cell_type": "markdown",
   "metadata": {},
   "source": [
    "It is also possible to see the number of remaining jobs you are able to submit to the backend with the job_limit() method, which returns a BackendJobLimit instance:"
   ]
  },
  {
   "cell_type": "code",
   "execution_count": null,
   "metadata": {},
   "outputs": [],
   "source": [
    "job_limit = backend.job_limit()"
   ]
  },
  {
   "cell_type": "markdown",
   "metadata": {},
   "source": [
    "# Jobs"
   ]
  },
  {
   "cell_type": "markdown",
   "metadata": {},
   "source": [
    "Filter last five jobs with errors"
   ]
  },
  {
   "cell_type": "code",
   "execution_count": null,
   "metadata": {},
   "outputs": [],
   "source": [
    "job_list = backend.jobs(limit=5, status=JobStatus.ERROR)"
   ]
  },
  {
   "cell_type": "markdown",
   "metadata": {},
   "source": [
    "Filter last five jobs with hub name ibm-q"
   ]
  },
  {
   "cell_type": "code",
   "execution_count": null,
   "metadata": {},
   "outputs": [],
   "source": [
    "filter = {'hubInfo.hub.name': 'ibm-q'}\n",
    "job_list = backend.jobs(limit=5, db_filter=filter)"
   ]
  }
 ],
 "metadata": {
  "language_info": {
   "name": "python"
  },
  "orig_nbformat": 4
 },
 "nbformat": 4,
 "nbformat_minor": 2
}
