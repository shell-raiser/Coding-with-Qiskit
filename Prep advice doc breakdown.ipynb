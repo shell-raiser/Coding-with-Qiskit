{
 "cells": [
  {
   "cell_type": "markdown",
   "id": "c19c1140",
   "metadata": {},
   "source": [
    "# IBM Guide\n",
    "breakdown of the pdf pulished by IBM on the [course website](https://www.ibm.com/training/certification/C0010300)\n",
    "- Qiskit TB\n",
    "- IBM QLab\n",
    "- Deeper into QCkts\n",
    "- Advance Ckts\n",
    "- QRegisters\n",
    "- Simulators\n",
    "- Open QASM\n",
    "- Qiskit Backend\n",
    "- Visualisation"
   ]
  },
  {
   "cell_type": "markdown",
   "id": "6a885c13",
   "metadata": {},
   "source": [
    "### Qiskit textbook\n",
    "up to, and including, the Multiple Qubits and Entanglement section https://qiskit.org/textbook"
   ]
  },
  {
   "cell_type": "markdown",
   "id": "9c536507",
   "metadata": {},
   "source": [
    "### IBM Quantum Lab:\n",
    "1.  Quantum circuits: https://quantum-computing.ibm.com/lab/files/qiskit-tutorials/tutorials/circuits\n",
    "2.  Quantum simulators: https://quantum-computing.ibm.com/lab/files/qiskit-tutorials/tutorials/simulators"
   ]
  },
  {
   "cell_type": "markdown",
   "id": "dad7fad5",
   "metadata": {},
   "source": [
    "### Deeper into quantum circuits\n",
    "https://qiskit.org/textbook/ch-algorithms/defining-quantum-circuits.html<br>\n",
    "https://qiskit.org/textbook/ch-states/representing-qubit-states.html<br>\n",
    "https://qiskit.org/documentation/stubs/qiskit.circuit.Gate.html"
   ]
  },
  {
   "cell_type": "markdown",
   "id": "7a1c1a39",
   "metadata": {},
   "source": [
    "### Advance Circuits\n",
    "https://qiskit.org/documentation/tutorials/circuits_advanced/03_advanced_circuit_visualization.html\n",
    "1. Using various single-qubit gates : https://qiskit.org/textbook/ch-states/single-qubit-gates.html\n",
    "2. Using various multi-qubit gates : https://qiskit.org/textbook/ch-gates/multiple-qubits-entangled-states.html\n",
    "3. Using barrier operation : https://qiskit.org/documentation/stubs/qiskit.circuit.libraryBarrier.html\n",
    "4. Returning the circuit depth : https://arnaldogunzi.medium.com/how-to-calculate-the-depth-of-a-quantum-circuit-in-qiskit-868505abc104\n",
    "5. Extending quantum circuits : https://qiskit.org/documentation/stubs/qiskit.extensions.Initialize.html \n",
    "6. Operations around the qiskit version : https://qiskit.org/documentation/install.html\n",
    "7. Operators :https://qiskit.org/documentation/tutorials/circuits_advanced/02_operators_overview.html\n",
    "8. Fidelity: https://qiskit.org/documentation/stubs/qiskit.quantum_info.state_fidelity.html"
   ]
  },
  {
   "cell_type": "markdown",
   "id": "e88827b8",
   "metadata": {},
   "source": [
    "### Quantum registers\n",
    " https://qiskit.org/documentation/getting_started.html\n",
    "1.  Constructing Quantum Circuits : https://qiskit.org/textbook/ch-algorithms/defining-quantum-circuits.html\n",
    "2.  Constructing multi-qubit quantum registers : https://qiskit.org/textbook/ch-gates/multiple-qubits-entangled-states.html\n",
    "3.  Measuring quantum circuits into classical registers: https://qiskit.org/documentation/stubs/qiskit.circuit.Measure.html\n",
    "4.  Classical and quantum registers: https://qiskit.org/documentation/stubs/qiskit.circuit.QuantumRegister.html\n",
    "5.  long-syntax  Executing a quantum circuit: https://qiskit.org/documentation/apidoc/execute.html"
   ]
  },
  {
   "cell_type": "markdown",
   "id": "de081dbf",
   "metadata": {},
   "source": [
    "### Simulators. \n",
    "https://qiskit.org/documentation/tutorials/simulators/1_aer_provider.html\n",
    "https://qiskit.org/documentation/apidoc/providers_basicaer.html\n",
    "1.  Returning the histogram data of an experiment\n",
    "2.  Returning the statevector of an experiment\n",
    "3.  Returning the unitary of an experiment\n",
    "4.  Available simulators\n",
    "5.  Accessing a statevector_simulator backend\n",
    "6.  Accessing a qasm_simulator backend\n",
    "7.  Accessing a unitary_simulator backend\n"
   ]
  },
  {
   "cell_type": "markdown",
   "id": "2c22da8b",
   "metadata": {},
   "source": [
    "### Open QASM\n",
    "https://qiskit.org/documentation/stubs/qiskit.qasm.Qasm.html<br>\n",
    "https://medium.com/qiskit/a-new-openqasm-for-a-new-era-of-dynamic-circuits-87f031cac49<br>\n",
    "https://github.com/Qiskit/openqasm\n",
    "1.  Returning the OpenQASM string for a circuit\n",
    "2.  Reading a QASM file\n"
   ]
  },
  {
   "cell_type": "markdown",
   "id": "a60cb279",
   "metadata": {},
   "source": [
    "### Qiskit Backend \n",
    "Need to read <br>\n",
    "https://quantum-computing.ibm.com/docs/manage/account/ibmq\n",
    "https://qiskit.org/documentation/stubs/qiskit.providers.ibmq.IBMQBackend.html\n",
    "https://medium.com/qiskit/qiskit-backends-what-they-are-and-how-to-work-with-them-fb66b3bd0463\n",
    "1.  Monitor the status of a job instance\n",
    "2.  Qiskit Backend Overview\n"
   ]
  },
  {
   "cell_type": "markdown",
   "id": "4ff4fade",
   "metadata": {},
   "source": [
    "### Visualization \n",
    "https://qiskit.org/documentation/tutorials/circuits/2_plotting_data_in_qiskit.html\n",
    "https://qiskit.org/documentation/tutorials/circuits_advanced/03_advanced_circuit_visualization.html"
   ]
  }
 ],
 "metadata": {
  "kernelspec": {
   "display_name": "Python 3 (ipykernel)",
   "language": "python",
   "name": "python3"
  },
  "language_info": {
   "codemirror_mode": {
    "name": "ipython",
    "version": 3
   },
   "file_extension": ".py",
   "mimetype": "text/x-python",
   "name": "python",
   "nbconvert_exporter": "python",
   "pygments_lexer": "ipython3",
   "version": "3.9.7"
  }
 },
 "nbformat": 4,
 "nbformat_minor": 5
}
